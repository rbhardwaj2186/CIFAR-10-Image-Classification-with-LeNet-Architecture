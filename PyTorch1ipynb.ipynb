{
  "nbformat": 4,
  "nbformat_minor": 0,
  "metadata": {
    "colab": {
      "provenance": [],
      "toc_visible": true
    },
    "kernelspec": {
      "name": "python3",
      "display_name": "Python 3"
    },
    "language_info": {
      "name": "python"
    }
  },
  "cells": [
    {
      "cell_type": "code",
      "execution_count": 1,
      "metadata": {
        "id": "5V-4zLU9vLLp"
      },
      "outputs": [],
      "source": [
        "#%matplotlib inline\n",
        "import torch\n",
        "import torch.nn as nn\n",
        "import torch.nn.functional as F\n",
        "import torch.optim  as optim\n",
        "\n",
        "import torchvision\n",
        "import torchvision.transforms as transforms\n",
        "\n",
        "import matplotlib\n",
        "import matplotlib.pyplot as plt\n",
        "import numpy as np\n"
      ]
    },
    {
      "cell_type": "code",
      "source": [
        "# Training and Test Datasets\n",
        "transform = transforms.Compose(\n",
        "    [transforms.ToTensor(),\n",
        "     transforms.Normalize((0.5, 0.5, 0.5), (0.5, 0.5, 0.5))]\n",
        ")\n",
        "\n",
        "trainset = torchvision.datasets.CIFAR10(root='./data', train=True,\n",
        "                                        download=True, transform=transform)\n",
        "\n",
        "# trainloader put the training set into batches\n",
        "trainloader = torch.utils.data.DataLoader(trainset, batch_size=4,\n",
        "                                          shuffle=True, num_workers=2)\n",
        "\n",
        "testset = torchvision.datasets.CIFAR10(root='./data', train=False,\n",
        "                                       download=True, transform=transform)\n",
        "testloader = torch.utils.data.DataLoader(testset, batch_size=4,\n",
        "                                         shuffle=False, num_workers=2)\n",
        "\n",
        "classes = ('plane', 'car', 'bird', 'cat', 'deer', 'dog', 'frog', 'horse', 'ship', 'truck')\n",
        "\n"
      ],
      "metadata": {
        "colab": {
          "base_uri": "https://localhost:8080/"
        },
        "id": "PLKIE-0Bvr9h",
        "outputId": "419c8cc4-3918-4e89-f36c-d3fe98c8baa7"
      },
      "execution_count": 2,
      "outputs": [
        {
          "output_type": "stream",
          "name": "stdout",
          "text": [
            "Downloading https://www.cs.toronto.edu/~kriz/cifar-10-python.tar.gz to ./data/cifar-10-python.tar.gz\n"
          ]
        },
        {
          "output_type": "stream",
          "name": "stderr",
          "text": [
            "100%|██████████| 170498071/170498071 [00:05<00:00, 33086361.42it/s]\n"
          ]
        },
        {
          "output_type": "stream",
          "name": "stdout",
          "text": [
            "Extracting ./data/cifar-10-python.tar.gz to ./data\n",
            "Files already downloaded and verified\n"
          ]
        }
      ]
    },
    {
      "cell_type": "code",
      "source": [
        "# Running a check on the output from DataLoader:\n",
        "\n",
        "import matplotlib.pyplot as plt\n",
        "import numpy as np\n",
        "\n",
        "# functions to show an image\n",
        "\n",
        "def imshow(img):\n",
        "  img = img / 2 + 0.5 # Unnormalize\n",
        "  npimg = img.numpy()\n",
        "  plt.imshow(np.transpose(npimg, (1, 2, 0)))\n",
        "\n",
        "# get some random training images\n",
        "dataiter = iter(trainloader)\n",
        "#  If you pass an iterable object (like a list, tuple, or string) to iter(), it returns an iterator for that object.\n",
        "#  This allows you to iterate over the elements of the iterable using a loop, such as a for loop.\n",
        "# Here, my_iter is an iterator over my_list, and next() is used to get the next element from the iterator.\n",
        "images, labels = next(dataiter)\n",
        "\n",
        "# show images\n",
        "imshow(torchvision.utils.make_grid(images))\n",
        "# print labels\n",
        "print(' '.join('%5s' % classes[labels[j]] for j in range(4)))"
      ],
      "metadata": {
        "colab": {
          "base_uri": "https://localhost:8080/",
          "height": 267
        },
        "id": "xre72Q1Pvw7X",
        "outputId": "d867dad4-8e68-4aa3-a556-aef38aa6653c"
      },
      "execution_count": 3,
      "outputs": [
        {
          "output_type": "stream",
          "name": "stderr",
          "text": [
            "/usr/lib/python3.10/multiprocessing/popen_fork.py:66: RuntimeWarning: os.fork() was called. os.fork() is incompatible with multithreaded code, and JAX is multithreaded, so this will likely lead to a deadlock.\n",
            "  self.pid = os.fork()\n"
          ]
        },
        {
          "output_type": "stream",
          "name": "stdout",
          "text": [
            " deer  frog  deer plane\n"
          ]
        },
        {
          "output_type": "display_data",
          "data": {
            "text/plain": [
              "<Figure size 640x480 with 1 Axes>"
            ],
            "image/png": "[encoded data removed]"
          },
          "metadata": {}
        }
      ]
    },
    {
      "cell_type": "code",
      "source": [
        "# Next is the Model we will train on. It is similar to LeNet (adopted for 3-color images)\n",
        "\n",
        "class Net(nn.Module):\n",
        "  def __init__(self):\n",
        "    super(Net, self).__init__()\n",
        "    self.conv1 = nn.Conv2d(3, 6, 5) # (in_channel, out_channel, kernel_size (filter))\n",
        "    self.pool = nn.MaxPool2d(2,2 )\n",
        "    self.conv2 = nn.Conv2d(6, 16, 5)\n",
        "    self.fc1 = nn.Linear(16*5*5, 120)\n",
        "    self.fc2 = nn.Linear(120, 84)\n",
        "    self.fc3 = nn.Linear(84, 10)\n",
        "\n",
        "  def forward(self, x):\n",
        "    x = self.pool(F.relu(self.conv1(x)))\n",
        "    x = self.pool(F.relu(self.conv2(x)))\n",
        "    x = x.view(-1, 16*5*5)\n",
        "    x = F.relu(self.fc1(x))\n",
        "    x = F.relu(self.fc2(x))\n",
        "    x= self.fc3(x)\n",
        "    return x\n",
        "\n",
        "\n",
        "net = Net()\n"
      ],
      "metadata": {
        "id": "2kc-LX9zy4dt"
      },
      "execution_count": 4,
      "outputs": []
    },
    {
      "cell_type": "markdown",
      "source": [
        "###     Contiguity:\n",
        "        view(): Requires the tensor to be contiguous. If the tensor is not contiguous, you must call contiguous() before using view().\n",
        "        reshape(): Does not require the tensor to be contiguous and will create a copy if necessary.\n",
        "\n",
        "    Performance:\n",
        "        view(): Generally more efficient if the tensor is already contiguous since it doesn't need to create a copy.\n",
        "        reshape(): Can handle both contiguous and non-contiguous tensors but might be less efficient for non-contiguous tensors because it may need to create a copy.\n",
        "\n",
        "    Flexibility:\n",
        "        view(): Less flexible due to the contiguity requirement.\n",
        "        reshape(): More flexible as it automatically handles both contiguous and non-contiguous tensors."
      ],
      "metadata": {
        "id": "6VxFpK8B2Hlb"
      }
    },
    {
      "cell_type": "code",
      "source": [
        "# Final ingredients we need is a loss function and an optimizer\n",
        "\n",
        "criterion = nn.CrossEntropyLoss()\n",
        "optimizer = optim.SGD(net.parameters(), lr=0.001, momentum=0.9)"
      ],
      "metadata": {
        "id": "fbvwPdyC2bP5"
      },
      "execution_count": 5,
      "outputs": []
    },
    {
      "cell_type": "markdown",
      "source": [
        "The loss function, as previously mentioned in this video, quantifies how far the model's prediction deviates from our desired output. Cross-entropy loss stands out as a common choice for classification models like the one we're using.\n",
        "\n",
        "The optimizer is pivotal in driving the learning process. Here, we've designed an optimizer that employs stochastic gradient descent, a fairly straightforward optimization technique. In addition to the algorithm's parameters such as the learning rate (lr) and momentum, we provide net.parameters(), encompassing all the model's learning weights, for the optimizer to adjust.\n",
        "\n",
        "Lastly, these components are integrated into the training loop."
      ],
      "metadata": {
        "id": "djbro0Fl22nt"
      }
    },
    {
      "cell_type": "markdown",
      "source": [
        "Overall Workflow\n",
        "\n",
        "    Forward Pass: Compute predicted outputs.\n",
        "    Compute Loss: Calculate loss between predictions and actual labels.\n",
        "    Backward Pass (Gradient Computation): Compute gradients of loss w.r.t. parameters.\n",
        "    Optimization (Update Parameters): Update parameters based on computed gradients to minimize the loss."
      ],
      "metadata": {
        "id": "sDQZsfq2hUhs"
      }
    },
    {
      "cell_type": "code",
      "source": [
        "for epoch in range(2): # loop over the dataset multiple times\n",
        "  running_loss = 0.0\n",
        "  for i, data in enumerate(trainloader, 0):\n",
        "    # get the inputs\n",
        "    inputs, labels = data\n",
        "\n",
        "    # zero the parameter gradient\n",
        "    optimizer.zero_grad()\n",
        "\n",
        "    # forward+backward+optimize\n",
        "    outputs = net(inputs)\n",
        "    loss = criterion(outputs, labels)\n",
        "    loss.backward()\n",
        "    optimizer.step()\n",
        "\n",
        "    # print statistics\n",
        "    running_loss  += loss.item()\n",
        "    if i % 2000 == 1999: # print every 2000 mini-batches\n",
        "      print('[%d, %5d] loss: %.3f' % (epoch+1, i+1, running_loss / 2000))\n",
        "      running_loss = 0.0\n",
        "\n",
        "print('Finished Training')\n",
        "\n",
        "\n",
        "\n"
      ],
      "metadata": {
        "id": "kZe-njyU3NHH",
        "colab": {
          "base_uri": "https://localhost:8080/"
        },
        "outputId": "b787f9ac-19c4-45ee-f49f-628849056b5b"
      },
      "execution_count": 11,
      "outputs": [
        {
          "output_type": "stream",
          "name": "stderr",
          "text": [
            "/usr/lib/python3.10/multiprocessing/popen_fork.py:66: RuntimeWarning: os.fork() was called. os.fork() is incompatible with multithreaded code, and JAX is multithreaded, so this will likely lead to a deadlock.\n",
            "  self.pid = os.fork()\n"
          ]
        },
        {
          "output_type": "stream",
          "name": "stdout",
          "text": [
            "[1,  2000] loss: 2.240\n",
            "[1,  4000] loss: 1.941\n",
            "[1,  6000] loss: 1.745\n",
            "[1,  8000] loss: 1.625\n",
            "[1, 10000] loss: 1.533\n",
            "[1, 12000] loss: 1.450\n"
          ]
        },
        {
          "output_type": "stream",
          "name": "stderr",
          "text": [
            "/usr/lib/python3.10/multiprocessing/popen_fork.py:66: RuntimeWarning: os.fork() was called. os.fork() is incompatible with multithreaded code, and JAX is multithreaded, so this will likely lead to a deadlock.\n",
            "  self.pid = os.fork()\n"
          ]
        },
        {
          "output_type": "stream",
          "name": "stdout",
          "text": [
            "[2,  2000] loss: 1.403\n",
            "[2,  4000] loss: 1.363\n",
            "[2,  6000] loss: 1.343\n",
            "[2,  8000] loss: 1.293\n",
            "[2, 10000] loss: 1.284\n",
            "[2, 12000] loss: 1.271\n",
            "Finished Training\n"
          ]
        }
      ]
    },
    {
      "cell_type": "markdown",
      "source": [
        "    torch.no_grad() is a context manager that temporarily disables gradient calculation (i.e., no gradient computations are performed within this block). This is used during inference to reduce memory usage and speed up computations since gradients are not needed for predictions.\n",
        "    The loop iterates over batches of data in testloader, which presumably contains test samples.\n",
        "    For each batch, it performs inference (outputs = net(images)) to get the model's predictions (outputs).\n",
        "    torch.max(outputs.data, 1) finds the index of the maximum value along dimension 1, which corresponds to the predicted class for each sample.\n",
        "    total += labels.size(0) increments total by the number of samples in the current batch.\n",
        "    (predicted == labels).sum().item() calculates the number of correctly classified samples in the batch and adds it to correct."
      ],
      "metadata": {
        "id": "ZijFPl5rkXpC"
      }
    },
    {
      "cell_type": "code",
      "source": [
        "# Evaluating on the test dataset\n",
        "\n",
        "correct = 0\n",
        "total = 0\n",
        "with torch.no_grad():\n",
        "  for data in testloader:\n",
        "    images, labels = data\n",
        "    outputs = net(images)\n",
        "    _, predicted = torch.max(outputs.data, 1)\n",
        "    total += labels.size(0)\n",
        "    correct += (predicted == labels).sum().item()\n",
        "\n",
        "print('Accuracy of the network on the 10000 test images: %d %%' %(100*correct/total))"
      ],
      "metadata": {
        "colab": {
          "base_uri": "https://localhost:8080/"
        },
        "id": "mYrfLfH5jSza",
        "outputId": "9f517432-bf84-4009-c4c8-e1d239e727db"
      },
      "execution_count": 12,
      "outputs": [
        {
          "output_type": "stream",
          "name": "stderr",
          "text": [
            "/usr/lib/python3.10/multiprocessing/popen_fork.py:66: RuntimeWarning: os.fork() was called. os.fork() is incompatible with multithreaded code, and JAX is multithreaded, so this will likely lead to a deadlock.\n",
            "  self.pid = os.fork()\n",
            "/usr/lib/python3.10/multiprocessing/popen_fork.py:66: RuntimeWarning: os.fork() was called. os.fork() is incompatible with multithreaded code, and JAX is multithreaded, so this will likely lead to a deadlock.\n",
            "  self.pid = os.fork()\n"
          ]
        },
        {
          "output_type": "stream",
          "name": "stdout",
          "text": [
            "Accuracy of the network on the 10000 test images: 56 %\n"
          ]
        }
      ]
    }
  ]
}