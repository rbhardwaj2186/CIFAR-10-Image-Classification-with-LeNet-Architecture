{
  "nbformat": 4,
  "nbformat_minor": 0,
  "metadata": {
    "colab": {
      "provenance": []
    },
    "kernelspec": {
      "name": "python3",
      "display_name": "Python 3"
    },
    "language_info": {
      "name": "python"
    }
  },
  "cells": [
    {
      "cell_type": "code",
      "execution_count": 1,
      "metadata": {
        "id": "5V-4zLU9vLLp"
      },
      "outputs": [],
      "source": [
        "#%matplotlib inline\n",
        "import torch\n",
        "import torch.nn as nn\n",
        "import torch.nn.functional as F\n",
        "import torch.optim  as optim\n",
        "\n",
        "import torchvision\n",
        "import torchvision.transforms as transforms\n",
        "\n",
        "import matplotlib\n",
        "import matplotlib.pyplot as plt\n",
        "import numpy as np\n"
      ]
    },
    {
      "cell_type": "code",
      "source": [
        "# Training and Test Datasets\n",
        "transform = transforms.Compose(\n",
        "    [transforms.ToTensor(),\n",
        "     transforms.Normalize((0.5, 0.5, 0.5), (0.5, 0.5, 0.5))]\n",
        ")\n",
        "\n",
        "trainset = torchvision.datasets.CIFAR10(root='./data', train=True,\n",
        "                                        download=True, transform=transform)\n",
        "\n",
        "# trainloader put the training set into batches\n",
        "trainloader = torch.utils.data.DataLoader(trainset, batch_size=4,\n",
        "                                          shuffle=True, num_workers=2)\n",
        "\n",
        "testset = torchvision.datasets.CIFAR10(root='./data', train=False,\n",
        "                                       download=True, transform=transform)\n",
        "testloader = torch.utils.data.DataLoader(testset, batch_size=4,\n",
        "                                         shuffle=False, num_workers=2)\n",
        "\n",
        "classes = ('plane', 'car', 'bird', 'cat', 'deer', 'dog', 'frog', 'horse', 'ship', 'truck')\n",
        "\n"
      ],
      "metadata": {
        "colab": {
          "base_uri": "https://localhost:8080/"
        },
        "id": "PLKIE-0Bvr9h",
        "outputId": "6fa72401-8c79-43b6-ccc6-777551b74290"
      },
      "execution_count": 3,
      "outputs": [
        {
          "output_type": "stream",
          "name": "stdout",
          "text": [
            "Downloading https://www.cs.toronto.edu/~kriz/cifar-10-python.tar.gz to ./data/cifar-10-python.tar.gz\n"
          ]
        },
        {
          "output_type": "stream",
          "name": "stderr",
          "text": [
            "100%|██████████| 170498071/170498071 [00:02<00:00, 80641216.22it/s]\n"
          ]
        },
        {
          "output_type": "stream",
          "name": "stdout",
          "text": [
            "Extracting ./data/cifar-10-python.tar.gz to ./data\n",
            "Files already downloaded and verified\n"
          ]
        }
      ]
    },
    {
      "cell_type": "code",
      "source": [
        "# Running a check on the output from DataLoader:\n",
        "\n",
        "import matplotlib.pyplot as plt\n",
        "import numpy as np\n",
        "\n",
        "# functions to show an image\n",
        "\n",
        "def imshow(img):\n",
        "  img = img / 2 + 0.5 # Unnormalize\n",
        "  npimg = img.numpy()\n",
        "  plt.imshow(np.transpose(npimg, (1, 2, 0)))\n",
        "\n",
        "# get some random training images\n",
        "dataiter = iter(trainloader)\n",
        "#  If you pass an iterable object (like a list, tuple, or string) to iter(), it returns an iterator for that object.\n",
        "#  This allows you to iterate over the elements of the iterable using a loop, such as a for loop.\n",
        "# Here, my_iter is an iterator over my_list, and next() is used to get the next element from the iterator.\n",
        "images, labels = next(dataiter)\n",
        "\n",
        "# show images\n",
        "imshow(torchvision.utils.make_grid(images))\n",
        "# print labels\n",
        "print(' '.join('%5s' % classes[labels[j]] for j in range(4)))"
      ],
      "metadata": {
        "colab": {
          "base_uri": "https://localhost:8080/",
          "height": 265
        },
        "id": "xre72Q1Pvw7X",
        "outputId": "498607aa-d6ba-4ed9-a98d-b76f0703f9d8"
      },
      "execution_count": 4,
      "outputs": [
        {
          "output_type": "stream",
          "name": "stderr",
          "text": [
            "/usr/lib/python3.10/multiprocessing/popen_fork.py:66: RuntimeWarning: os.fork() was called. os.fork() is incompatible with multithreaded code, and JAX is multithreaded, so this will likely lead to a deadlock.\n",
            "  self.pid = os.fork()\n"
          ]
        },
        {
          "output_type": "stream",
          "name": "stdout",
          "text": [
            "horse   dog  frog   dog\n"
          ]
        },
        {
          "output_type": "display_data",
          "data": {
            "text/plain": [
              "<Figure size 640x480 with 1 Axes>"
            ],
            "image/png": "[encoded data removed]"
          },
          "metadata": {}
        }
      ]
    },
    {
      "cell_type": "code",
      "source": [
        "# Next is the Model we will train on. It is similar to LeNet (adopted for 3-color images)\n",
        "\n",
        "class Net(nn.Module):\n",
        "  def __init__(self):\n",
        "    super(Net, self).__init__()\n",
        "    self.conv1 = nn.Conv2d(3, 6, 5) # (in_channel, out_channel, kernel_size (filter))\n",
        "    self.pool = nn.MaxPool2d(2,2 )\n",
        "    self.conv2 = nn.Conv2d(6, 16, 5)\n",
        "    self.fc1 = nn.Linear(16*5*5, 120)\n",
        "    self.fc2 = nn.Linear(120, 84)\n",
        "    self.fc3 = nn.Linear(84, 10)\n",
        "\n",
        "  def forward(self, x):\n",
        "    x = self.pool(F.relu(self.conv1(x)))\n",
        "    x = self.pool(F.relu(self.conv2(x)))\n",
        "    x = x.view(-1, 16*5*5)\n",
        "    x = F.relu(self.fc1(x))\n",
        "    x = F.relu(self.fc2(x))\n",
        "    x= self.fc3(x)\n",
        "    return x\n",
        "\n",
        "\n",
        "net = Net()\n"
      ],
      "metadata": {
        "id": "2kc-LX9zy4dt"
      },
      "execution_count": 5,
      "outputs": []
    },
    {
      "cell_type": "markdown",
      "source": [
        "###     Contiguity:\n",
        "        view(): Requires the tensor to be contiguous. If the tensor is not contiguous, you must call contiguous() before using view().\n",
        "        reshape(): Does not require the tensor to be contiguous and will create a copy if necessary.\n",
        "\n",
        "    Performance:\n",
        "        view(): Generally more efficient if the tensor is already contiguous since it doesn't need to create a copy.\n",
        "        reshape(): Can handle both contiguous and non-contiguous tensors but might be less efficient for non-contiguous tensors because it may need to create a copy.\n",
        "\n",
        "    Flexibility:\n",
        "        view(): Less flexible due to the contiguity requirement.\n",
        "        reshape(): More flexible as it automatically handles both contiguous and non-contiguous tensors."
      ],
      "metadata": {
        "id": "6VxFpK8B2Hlb"
      }
    },
    {
      "cell_type": "code",
      "source": [
        "# Final ingredients we need is a loss function and an optimizer\n",
        "\n",
        "criterion = nn.CrossEntropyLoss()\n",
        "optimizer = optim.SGD(net.parameters(), lr=0.001, momentum=0.9)"
      ],
      "metadata": {
        "id": "fbvwPdyC2bP5"
      },
      "execution_count": null,
      "outputs": []
    },
    {
      "cell_type": "markdown",
      "source": [
        "The loss function, as previously mentioned in this video, quantifies how far the model's prediction deviates from our desired output. Cross-entropy loss stands out as a common choice for classification models like the one we're using.\n",
        "\n",
        "The optimizer is pivotal in driving the learning process. Here, we've designed an optimizer that employs stochastic gradient descent, a fairly straightforward optimization technique. In addition to the algorithm's parameters such as the learning rate (lr) and momentum, we provide net.parameters(), encompassing all the model's learning weights, for the optimizer to adjust.\n",
        "\n",
        "Lastly, these components are integrated into the training loop."
      ],
      "metadata": {
        "id": "djbro0Fl22nt"
      }
    },
    {
      "cell_type": "code",
      "source": [
        "for epoch in range(2): # loop over the dataset multiple times\n",
        "  running_loss = 0.0\n",
        "  for i, data in enumerate(trainloader, 0):\n",
        "    # get the inputs\n",
        "    inputs, labels = data\n",
        "\n",
        "\n"
      ],
      "metadata": {
        "id": "kZe-njyU3NHH"
      },
      "execution_count": null,
      "outputs": []
    }
  ]
}